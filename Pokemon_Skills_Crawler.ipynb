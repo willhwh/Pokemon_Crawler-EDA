{
 "cells": [
  {
   "cell_type": "code",
   "execution_count": 1,
   "metadata": {},
   "outputs": [],
   "source": [
    "#library"
   ]
  },
  {
   "cell_type": "code",
   "execution_count": 2,
   "metadata": {},
   "outputs": [],
   "source": [
    "import requests\n",
    "from bs4 import BeautifulSoup\n",
    "import re\n",
    "import os\n",
    "import csv\n",
    "import time\n",
    "import random\n",
    "import sys"
   ]
  },
  {
   "cell_type": "code",
   "execution_count": 3,
   "metadata": {},
   "outputs": [],
   "source": [
    "def filechecker(name):\n",
    "    data=pd.read_csv(name)\n",
    "    print('top 5 row of',len(data), 'data\\n',data.head())"
   ]
  },
  {
   "cell_type": "code",
   "execution_count": 4,
   "metadata": {},
   "outputs": [],
   "source": [
    "#get data"
   ]
  },
  {
   "cell_type": "code",
   "execution_count": 5,
   "metadata": {},
   "outputs": [],
   "source": [
    "url='https://bulbapedia.bulbagarden.net/wiki/List_of_Pokémon_by_National_Pokédex_number'\n",
    "r=requests.get(url)\n",
    "r.encoding = 'utf-8'"
   ]
  },
  {
   "cell_type": "code",
   "execution_count": 6,
   "metadata": {},
   "outputs": [],
   "source": [
    "#compile data\n",
    "soup=BeautifulSoup(r.text,\"html5lib\")"
   ]
  },
  {
   "cell_type": "code",
   "execution_count": 83,
   "metadata": {},
   "outputs": [
    {
     "name": "stdout",
     "output_type": "stream",
     "text": [
      "#013 has no TM Skills\n",
      "#014 has no TM Skills\n",
      "#132 has no TM Skills\n",
      "#235 has no TM Skills\n",
      "#265 has no TM Skills\n",
      "#266 has no TM Skills\n",
      "#268 has no TM Skills\n",
      "#374 has no TM Skills\n",
      "#401 has no TM Skills\n",
      "#664 has no TM Skills\n",
      "#789 has no TM Skills\n",
      "#824 has no TM Skills\n",
      "#??? has no Level Skills\n",
      "#??? has no TM Skills\n",
      "#??? has no Level Skills\n",
      "#??? has no TM Skills\n",
      "#??? has no Level Skills\n",
      "#??? has no TM Skills\n",
      "#??? has no Level Skills\n",
      "#??? has no TM Skills\n",
      "#??? has no Level Skills\n",
      "#??? has no TM Skills\n",
      "['#013', '#014', '#132', '#235', '#265', '#266', '#268', '#374', '#401', '#664', '#789', '#824', '#???', '#???', '#???', '#???', '#???']\n"
     ]
    }
   ],
   "source": [
    "errorlist=[]\n",
    "#arrange data\n",
    "counter=0 #counter\n",
    "for i in soup.find('div',{'id':'mw-content-text'}).find_all('tr',{\"style\":\"background:#FFF\"}):\n",
    "    counter=counter+1 #counter\n",
    "    #print('Loading...')\n",
    "    pokemon_data=[]    \n",
    "    \n",
    "    \n",
    "    #generate_number\n",
    "    generate_number=i.find_all('td')[0].text.replace('\\n',\"\")\n",
    "    #print('Kdex: ',generate_number)\n",
    "    pokemon_data.append(generate_number)\n",
    "    \n",
    "    \n",
    "    #national_number\n",
    "    national_number=i.find_all('td')[1].text.replace('\\n',\"\").strip()\n",
    "    #print('Ndex: ',national_number)\n",
    "    pokemon_data.append(national_number)\n",
    "    \n",
    "    \n",
    "    #name\n",
    "    name=i.find('a')['title']\n",
    "    #print('Name: ',name)\n",
    "    pokemon_data.append(name)\n",
    "\n",
    "    #link to specific attr\n",
    "    link='https://bulbapedia.bulbagarden.net/'+i.find_all('a',\n",
    "                                                          href=re.compile(\"^(/wiki/)((?!;)\\S)*$\"))[1]['href']\n",
    "    #print('Link: ',link)\n",
    "    pokemon_data.append(link)    \n",
    "    \n",
    "    \n",
    "    #set timer \n",
    "    #sleep=random.randint(1,3)\n",
    "    #print('sleep time: ',sleep)\n",
    "    #time.sleep(sleep)\n",
    "    \n",
    "    \n",
    "    #get specific link attr for a pokemon\n",
    "    url_pkm=link\n",
    "    r_pkm=requests.get(url_pkm)\n",
    "    r_pkm.encoding = 'utf-8'\n",
    "    soup_pkm=BeautifulSoup(r_pkm.text,\"html5lib\")\n",
    "        \n",
    "        \n",
    "    #level skill documents creating\n",
    "    with open('Pokemon_data/'+national_number+'lv_skill_data.csv', 'a', newline='') as file:\n",
    "        writer = csv.writer(file, delimiter=',')\n",
    "        writer.writerow(['Level Skills starts================='])\n",
    "        writer.writerow(['Level','Move','Type','Cat.','Pwr.','Acc.','PP'])\n",
    "        \n",
    "        #level skills targeting\n",
    "        try:\n",
    "            soup_skills_level=soup_pkm.find_all('table',{'class':\"sortable\",'style':\"border-collapse:collapse;\", 'width':\"100%\"})[0]\n",
    "        \n",
    "            soup_pkm.find('a',{'href':\"/wiki/Level\"}).text=='level'\n",
    "            for i in soup_skills_level.find_all('tr')[1:]:\n",
    "                level,move,type_,cat,pwr,acc=[ j.find('span').text for j in i.find_all('td')[:6]]\n",
    "                pp=[j.text.replace('[','').replace(']','').strip()for j in i.find_all('td')[-1:]]\n",
    "                #write level skills\n",
    "                writer.writerow([level,move,type_,cat,pwr,acc,pp])\n",
    "            #print(level,move,type_,cat,pwr,acc,pp)\n",
    "        except:\n",
    "            errorlist.append(national_number)\n",
    "            print(national_number,'has no Level Skills')\n",
    "            pass\n",
    "    \n",
    "    \n",
    "    #TMTR documents creating\n",
    "    with open('Pokemon_data/'+national_number+'tmtr_skill_data.csv', 'a', newline='') as file:\n",
    "        writer = csv.writer(file, delimiter=',')\n",
    "        writer.writerow(['TMTR Skills starts================='])\n",
    "        writer.writerow(['TMTR','Move','Type','Cat.','Pwr.','Acc.','PP'])\n",
    "        \n",
    "        \n",
    "        #TMTR skills targeting\n",
    "        try:\n",
    "            soup_skills_TMTR=soup_pkm.find_all('table',{'class':\"sortable\",'style':\"border-collapse:collapse;\", 'width':\"100%\"})[1].find('tbody')\n",
    "        \n",
    "            soup_pkm.find('a',{'href':\"/wiki/TM\"}).text=='TM'\n",
    "            for i in soup_skills_TMTR.find_all('tr')[1:]:\n",
    "                tm,move,type_,cat,pwr,acc=[j.text.replace('}}','%').replace('00—','-').replace('0000','-') for j in i.find_all('span')[0:6]]\n",
    "                pp=[j.text.replace('[','').replace(']','').strip() for j in i.find_all('td')[-1:]]\n",
    "                #write TMTR skills\n",
    "                writer.writerow([tm,move,type_,cat,pwr,acc,pp])\n",
    "            #print(tm,move,type_,cat,pwr,acc,pp)\n",
    "        except:\n",
    "            if national_number not in errorlist:\n",
    "                errorlist.append(national_number)\n",
    "            print(national_number,'has no TM Skills')\n",
    "            pass\n",
    "\n",
    "            \n",
    "print(errorlist)   \n",
    " \n",
    "    \n"
   ]
  },
  {
   "cell_type": "code",
   "execution_count": 86,
   "metadata": {
    "scrolled": true
   },
   "outputs": [
    {
     "name": "stdout",
     "output_type": "stream",
     "text": [
      "['#013', '#014', '#132', '#235', '#265', '#266', '#268', '#374', '#401', '#664', '#789', '#824', '#???', '#???', '#???', '#???', '#???']\n"
     ]
    }
   ],
   "source": [
    "#the ones has noe skills info\n",
    "with open('Pokemon_data/'+'errorlist.csv', 'a', newline='') as file:\n",
    "        writer = csv.writer(file, delimiter=',')\n",
    "        writer.writerow([errorlist])\n",
    "print(errorlist)  \n"
   ]
  },
  {
   "cell_type": "code",
   "execution_count": 88,
   "metadata": {},
   "outputs": [
    {
     "name": "stdout",
     "output_type": "stream",
     "text": [
      "#029tmtr_skill_data.csv\n",
      "#810tmtr_skill_data.csv\n",
      "#743tmtr_skill_data.csv\n",
      "#081tmtr_skill_data.csv\n",
      "#829lv_skill_data.csv\n",
      "There are other 1779files in the folder\n"
     ]
    }
   ],
   "source": [
    "# open folder\n",
    "dirs = os.listdir( './Pokemon_data/' )\n",
    "\n",
    "# show top five files and totla number of it\n",
    "n=0\n",
    "for file in dirs:\n",
    "    n=n+1\n",
    "    if n<6:\n",
    "        print(file)\n",
    "\n",
    "print('There are other '+str(n-5)+'files in the folder')"
   ]
  },
  {
   "cell_type": "code",
   "execution_count": null,
   "metadata": {},
   "outputs": [],
   "source": []
  }
 ],
 "metadata": {
  "kernelspec": {
   "display_name": "Python 3",
   "language": "python",
   "name": "python3"
  },
  "language_info": {
   "codemirror_mode": {
    "name": "ipython",
    "version": 3
   },
   "file_extension": ".py",
   "mimetype": "text/x-python",
   "name": "python",
   "nbconvert_exporter": "python",
   "pygments_lexer": "ipython3",
   "version": "3.7.4"
  }
 },
 "nbformat": 4,
 "nbformat_minor": 2
}
