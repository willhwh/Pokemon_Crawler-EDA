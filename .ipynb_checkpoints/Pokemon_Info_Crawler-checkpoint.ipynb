{
 "cells": [
  {
   "cell_type": "markdown",
   "metadata": {},
   "source": [
    "# Import Library"
   ]
  },
  {
   "cell_type": "code",
   "execution_count": null,
   "metadata": {},
   "outputs": [],
   "source": [
    "import requests\n",
    "from bs4 import BeautifulSoup\n",
    "import re\n",
    "import os\n",
    "import csv\n",
    "import time\n",
    "import random\n",
    "import pandas as pd"
   ]
  },
  {
   "cell_type": "markdown",
   "metadata": {},
   "source": [
    "# Helper Function"
   ]
  },
  {
   "cell_type": "code",
   "execution_count": null,
   "metadata": {},
   "outputs": [],
   "source": [
    "def filechecker(name):\n",
    "    data=pd.read_csv(name)\n",
    "    print('top 5 row of',len(data), 'data\\n',data.head())"
   ]
  },
  {
   "cell_type": "code",
   "execution_count": null,
   "metadata": {},
   "outputs": [],
   "source": [
    "def strip_data(i):\n",
    "    n=[1,2,3,4]\n",
    "    for column in n:\n",
    "        temp=type_comparison.iloc[i,column]\n",
    "        try:\n",
    "            temp=type_comparison.iloc[i,column].split(',')\n",
    "            for t in range(len(temp)):\n",
    "                temp[t]=temp[t].strip()\n",
    "        except:\n",
    "            pass\n",
    "        data_list.append(list(temp))\n",
    "    "
   ]
  },
  {
   "cell_type": "markdown",
   "metadata": {},
   "source": [
    "# Retrieve Data"
   ]
  },
  {
   "cell_type": "markdown",
   "metadata": {},
   "source": [
    "## Get Pokemon Data"
   ]
  },
  {
   "cell_type": "code",
   "execution_count": null,
   "metadata": {},
   "outputs": [],
   "source": [
    "url='https://bulbapedia.bulbagarden.net/wiki/List_of_Pokémon_by_National_Pokédex_number'\n",
    "r=requests.get(url)\n",
    "r.encoding = 'utf-8'"
   ]
  },
  {
   "cell_type": "code",
   "execution_count": null,
   "metadata": {},
   "outputs": [],
   "source": [
    "#compile data\n",
    "soup=BeautifulSoup(r.text,\"html5lib\")"
   ]
  },
  {
   "cell_type": "code",
   "execution_count": null,
   "metadata": {},
   "outputs": [],
   "source": [
    "#create folder\n",
    "folder = os.path.exists('Pokemon_data')\n",
    "if not folder:\n",
    "#if not exist creat one\n",
    "    os.makedirs('Pokemon_data')"
   ]
  },
  {
   "cell_type": "code",
   "execution_count": null,
   "metadata": {},
   "outputs": [],
   "source": [
    "#create file\n",
    "f = open(\"Pokemon_data/\" + 'pokemon_data.csv', \"a+\"\n",
    "                     #open for writing, appending to the end of the file if it exists\n",
    "                     #open for updating (reading and writing)\n",
    "                     #https://docs.python.org/3/library/functions.html\n",
    "                     , encoding='utf-8')"
   ]
  },
  {
   "cell_type": "code",
   "execution_count": null,
   "metadata": {},
   "outputs": [],
   "source": [
    "#open file and create column names\n",
    "with open('Pokemon_data/pokemon_data.csv', 'a', newline='') as file:\n",
    "    writer = csv.writer(file, delimiter=',')\n",
    "    writer.writerow(['Kdex','Ndex','Name','Type1','Type2','Link',\n",
    "               'HP','ATK','DEF','SP_ATK','SP_DEF','SPD',\n",
    "               'Damaged Normally by','Weak to','Immue to','Resisant to'])"
   ]
  },
  {
   "cell_type": "code",
   "execution_count": null,
   "metadata": {},
   "outputs": [],
   "source": [
    "#arrange data\n",
    "counter=0 #counter\n",
    "for i in soup.find('div',{'id':'mw-content-text'}).find_all('tr',{\"style\":\"background:#FFF\"}):\n",
    "    counter=counter+1 #counter\n",
    "    pokemon_data=[]    \n",
    "    #generate_number\n",
    "    generate_number=i.find_all('td')[0].text.replace('\\n',\"\")\n",
    "    #print('Kdex: ',generate_number)\n",
    "    pokemon_data.append(generate_number)\n",
    "    \n",
    "    \n",
    "    #national_number\n",
    "    national_number=i.find_all('td')[1].text.replace('\\n',\"\")\n",
    "    #print('Ndex: ',national_number)\n",
    "    pokemon_data.append(national_number)\n",
    "    \n",
    "    \n",
    "    #name\n",
    "    name=i.find('a')['title']\n",
    "    #print('Name: ',name)\n",
    "    pokemon_data.append(name)\n",
    "    print('Loading...',name,\"'s Data\")\n",
    "    \n",
    "    \n",
    "    #type1\n",
    "    type1=i.find_all('span')[0].text\n",
    "    #print('Type1: ',type1)\n",
    "    pokemon_data.append(type1)\n",
    "    \n",
    "    \n",
    "    #type2 if exist\n",
    "    if len(i.find_all('span'))==2:\n",
    "        type2=i.find_all('span')[1].text\n",
    "        #print('Type2: ',type2)\n",
    "        pokemon_data.append(type2)\n",
    "    else:\n",
    "        type2='Null'\n",
    "        #print('Type2: ',type2)\n",
    "        pokemon_data.append(type2)\n",
    "        \n",
    "        \n",
    "    #link to specific attr\n",
    "    link='https://bulbapedia.bulbagarden.net/'+i.find_all('a',\n",
    "                                                          href=re.compile(\"^(/wiki/)((?!;)\\S)*$\"))[1]['href']\n",
    "    #print('Link: ',link)\n",
    "    pokemon_data.append(link)    \n",
    "    \n",
    "    \n",
    "    \n",
    "    #set sleep timer \n",
    "    sleep=random.randint(0,1)\n",
    "    time.sleep(sleep)\n",
    "    \n",
    "    \n",
    "    #get specific attr for a pokemon\n",
    "    url_pkm=link\n",
    "    r_pkm=requests.get(url_pkm)\n",
    "    r_pkm.encoding = 'utf-8'\n",
    "    soup_pkm=BeautifulSoup(r_pkm.text,\"html5lib\")\n",
    "    try:\n",
    "        #hp\n",
    "        hp=soup_pkm.find('tr',{'style':\"background: #FF5959; text-align:center\"}).find('div',{'style':'float:right'}).text\n",
    "        #print(\"HP: \",hp) \n",
    "        pokemon_data.append(hp)\n",
    "        #atk\n",
    "        atk=soup_pkm.find('tr',{'style':\"background: #F5AC78; text-align:center\"}).find('div',{'style':'float:right'}).text\n",
    "        #print(\"ATK: \",atk) \n",
    "        pokemon_data.append(atk)\n",
    "        #def\n",
    "        defense=soup_pkm.find('tr',{'style':\"background: #FAE078; text-align:center\"}).find('div',{'style':'float:right'}).text\n",
    "        #print(\"DEF: \",defense)\n",
    "        pokemon_data.append(defense)\n",
    "        #sp_atk\n",
    "        sp_atk=soup_pkm.find('tr',{'style':\"background: #9DB7F5; text-align:center\"}).find('div',{'style':'float:right'}).text\n",
    "        #print(\"SP_ATK: \",sp_atk)  \n",
    "        pokemon_data.append(sp_atk)\n",
    "        #sp_def\n",
    "        sp_defense=soup_pkm.find('tr',{'style':\"background: #A7DB8D; text-align:center\"}).find('div',{'style':'float:right'}).text\n",
    "        #print(\"SP_DEF: \",sp_defense)\n",
    "        pokemon_data.append(sp_defense)\n",
    "        #spd\n",
    "        spd=soup_pkm.find('tr',{'style':\"background: #FA92B2; text-align:center\"}).find('div',{'style':'float:right'}).text\n",
    "        #print(\"SPD: \",spd)\n",
    "        pokemon_data.append(spd)\n",
    "\n",
    "        \n",
    "        #type_effectiveness\n",
    "        type_effectiveness=soup_pkm.find('table',{'class':'roundy','width':'100%','align':'center'}) \n",
    "        #get four dimentions \n",
    "        normal=type_effectiveness.find_all('table',{'class':'roundy','width':'100%','align':'center'})[1]\n",
    "        weak=type_effectiveness.find_all('table',{'class':'roundy','width':'100%','align':'center'})[2]\n",
    "        immue=type_effectiveness.find_all('table',{'class':'roundy','width':'100%','align':'center'})[3]\n",
    "        resisant=type_effectiveness.find_all('table',{'class':'roundy','width':'100%','align':'center'})[4]\n",
    "        #create list for each dimention\n",
    "        normal_lst=[]\n",
    "        weak_lst=[]\n",
    "        immue_lst=[]\n",
    "        resisant_lst=[]\n",
    "    \n",
    "    \n",
    "        #get data into each list and write\n",
    "        #Damaged Normally by\n",
    "        for j in normal.find_all('span',{'style':'display:inline-block;'}):\n",
    "            normal_lst.append(j.text.replace('\\n','').strip().replace(' ','_'))\n",
    "        #print('Damaged Normally by :',normal_lst)\n",
    "        pokemon_data.append(str(normal_lst))\n",
    "    \n",
    "    \n",
    "        #Weak to\n",
    "        for j in weak.find_all('span',{'style':'display:inline-block;'}):\n",
    "            weak_lst.append(j.text.replace('\\n','').strip().replace(' ','_'))\n",
    "        #print('Weak to :',weak_lst)\n",
    "        pokemon_data.append(str(weak_lst))\n",
    "    \n",
    "    \n",
    "        #Immue to\n",
    "        for j in immue.find_all('span',{'style':'display:inline-block;'}):\n",
    "            immue_lst.append(j.text.replace('\\n','').strip().replace(' ','_'))\n",
    "        #print('Immue to :',immue_lst)\n",
    "        pokemon_data.append(str(immue_lst))\n",
    "    \n",
    "    \n",
    "        #Resisant to\n",
    "        for j in resisant.find_all('span',{'style':'display:inline-block;'}):\n",
    "            resisant_lst.append(j.text.replace('\\n','').strip().replace(' ','_'))\n",
    "        #print('Resisant to :',resisant_lst)\n",
    "        pokemon_data.append(str(resisant_lst))\n",
    "    \n",
    "    \n",
    "    #writting data    \n",
    "        with open('Pokemon_data/pokemon_data.csv', 'a', newline='') as file:\n",
    "            writer = csv.writer(file, delimiter=',')\n",
    "            writer.writerow(pokemon_data)\n",
    "    except:\n",
    "        continue\n",
    "\n",
    "print('Done!!!')\n",
    "\n",
    "f.close()        \n",
    "        \n"
   ]
  },
  {
   "cell_type": "code",
   "execution_count": null,
   "metadata": {
    "scrolled": false
   },
   "outputs": [],
   "source": [
    "filechecker('Pokemon_data/pokemon_data.csv')\n"
   ]
  },
  {
   "cell_type": "markdown",
   "metadata": {},
   "source": [
    "## Get Type Effectiveness Data"
   ]
  },
  {
   "cell_type": "code",
   "execution_count": null,
   "metadata": {},
   "outputs": [],
   "source": [
    "#url\n",
    "URL = 'https://www.eurogamer.net/articles/2018-12-21-pokemon-go-type-chart-effectiveness-weaknesses'\n",
    "\n",
    "#retrieve data from the url\n",
    "page = requests.get(URL)\n",
    "soup = BeautifulSoup(page.content, 'html.parser')\n",
    "\n",
    "#get the effectiveness table\n",
    "tables = soup.find_all(\"table\")\n",
    "table = tables[0]\n",
    "tab_data = [[cell.text for cell in row.find_all([\"th\",\"td\"])]\n",
    "                        for row in table.find_all(\"tr\")]\n",
    "\n",
    "#create dataframe to hold the data\n",
    "type_comparison = pd.DataFrame(tab_data)\n",
    "\n",
    "type_comparison.head()\n"
   ]
  },
  {
   "cell_type": "code",
   "execution_count": null,
   "metadata": {},
   "outputs": [],
   "source": [
    "#name the header\n",
    "type_comparison.columns=['Type','Strong Against','Weak Against','Resistant To','Vulnerable To']\n",
    "type_comparison.head()"
   ]
  },
  {
   "cell_type": "code",
   "execution_count": null,
   "metadata": {},
   "outputs": [],
   "source": [
    "type_comparison.to_csv('Pokemon_data/type_comparison.csv',index=False)"
   ]
  },
  {
   "cell_type": "code",
   "execution_count": null,
   "metadata": {},
   "outputs": [],
   "source": [
    "filechecker('Pokemon_data/type_comparison.csv')"
   ]
  },
  {
   "cell_type": "markdown",
   "metadata": {},
   "source": [
    "# Import Data into MongoDB"
   ]
  },
  {
   "cell_type": "code",
   "execution_count": null,
   "metadata": {},
   "outputs": [],
   "source": [
    "from flask import Flask\n",
    "from flask_pymongo import PyMongo"
   ]
  },
  {
   "cell_type": "code",
   "execution_count": null,
   "metadata": {},
   "outputs": [],
   "source": [
    "#connect to database\n",
    "app = Flask(__name__)\n",
    "mongo = PyMongo(app, uri=\"mongodb://localhost:27017/Pokemon_DB\")"
   ]
  },
  {
   "cell_type": "markdown",
   "metadata": {},
   "source": [
    "## Import Pokemon Data"
   ]
  },
  {
   "cell_type": "code",
   "execution_count": null,
   "metadata": {},
   "outputs": [],
   "source": [
    "pokemon_data=pd.read_csv(\"Pokemon_data/pokemon_data.csv\")\n",
    "pokemon_data.head()"
   ]
  },
  {
   "cell_type": "code",
   "execution_count": null,
   "metadata": {
    "scrolled": false
   },
   "outputs": [],
   "source": [
    "#modifiy the data format for importing\n",
    "for i in range(len(pokemon_data)):\n",
    "    data_list=['Pokemon_List']\n",
    "    data_list.extend(pokemon_data.iloc[i,:6])\n",
    "    data_list.append(int(pokemon_data.iloc[i,6]))\n",
    "    data_list.append(int(pokemon_data.iloc[i,7]))\n",
    "    data_list.append(int(pokemon_data.iloc[i,8]))\n",
    "    data_list.append(int(pokemon_data.iloc[i,9]))\n",
    "    data_list.append(int(pokemon_data.iloc[i,10]))\n",
    "    data_list.append(int(pokemon_data.iloc[i,11]))\n",
    "    data_list.extend(pokemon_data.iloc[i,12:])\n",
    "    \n",
    "    column_list=['Search_Id']\n",
    "    column_list.extend(list(pokemon_data.columns))\n",
    "    pokemon_data_dict={}\n",
    "    for d,c in zip(data_list,column_list):\n",
    "        pokemon_data_dict.update({c:d})\n",
    "    mongo.db.Pokemon_Table.insert_one(pokemon_data_dict)\n",
    "    "
   ]
  },
  {
   "cell_type": "code",
   "execution_count": null,
   "metadata": {},
   "outputs": [],
   "source": [
    "pokemon_data_dict"
   ]
  },
  {
   "cell_type": "markdown",
   "metadata": {},
   "source": [
    "## Import Pokemon Type Data"
   ]
  },
  {
   "cell_type": "code",
   "execution_count": null,
   "metadata": {},
   "outputs": [],
   "source": [
    "type_comparison=pd.read_csv('Pokemon_data/type_comparison.csv')\n",
    "type_comparison.head()"
   ]
  },
  {
   "cell_type": "code",
   "execution_count": null,
   "metadata": {},
   "outputs": [],
   "source": [
    "#modify the data format for importing\n",
    "for i in range(len(type_comparison)):\n",
    "    data_list=[]\n",
    "    data_list.append(type_comparison.iloc[i,0])\n",
    "    strip_data(i)\n",
    "    column_list=[]\n",
    "    column_list.extend(list(type_comparison.columns))\n",
    "    type_comparison_dict={'Search_Id':'Type_Info'}\n",
    "    for d,c in zip(data_list,column_list):\n",
    "        type_comparison_dict.update({c:d})\n",
    "    mongo.db.Pokemon_Table.insert_one(type_comparison_dict)\n",
    "    "
   ]
  },
  {
   "cell_type": "code",
   "execution_count": null,
   "metadata": {},
   "outputs": [],
   "source": [
    "type_comparison_dict"
   ]
  },
  {
   "cell_type": "markdown",
   "metadata": {},
   "source": [
    "## Import Type List"
   ]
  },
  {
   "cell_type": "code",
   "execution_count": null,
   "metadata": {},
   "outputs": [],
   "source": [
    "#modify the data format for importing\n",
    "type_list=list(type_comparison[\"Type\"])\n",
    "type_list_dict={'Search_Id':'Type_List'}\n",
    "n=0\n",
    "type_lists=[]\n",
    "for type_element in type_list:\n",
    "    n=n+1\n",
    "    add=['Type_'+str(n),type_element]\n",
    "    type_lists.append(add)\n",
    "type_list_dict.update({'Types':type_lists})\n",
    "mongo.db.Pokemon_Table.insert_one(type_list_dict)"
   ]
  },
  {
   "cell_type": "code",
   "execution_count": null,
   "metadata": {},
   "outputs": [],
   "source": [
    "type_list_dict"
   ]
  },
  {
   "cell_type": "code",
   "execution_count": null,
   "metadata": {},
   "outputs": [],
   "source": [
    "mongo.db.Pokemon_Table.find_one({'Search_Id': 'Pokemon_List'}),\\\n",
    "mongo.db.Pokemon_Table.find_one({'Search_Id':'Type_Info'}),\\\n",
    "mongo.db.Pokemon_Table.find_one({'Search_Id': 'Type_List'})"
   ]
  },
  {
   "cell_type": "code",
   "execution_count": null,
   "metadata": {},
   "outputs": [],
   "source": []
  }
 ],
 "metadata": {
  "kernelspec": {
   "display_name": "Python 3",
   "language": "python",
   "name": "python3"
  },
  "language_info": {
   "codemirror_mode": {
    "name": "ipython",
    "version": 3
   },
   "file_extension": ".py",
   "mimetype": "text/x-python",
   "name": "python",
   "nbconvert_exporter": "python",
   "pygments_lexer": "ipython3",
   "version": "3.7.4"
  }
 },
 "nbformat": 4,
 "nbformat_minor": 2
}
